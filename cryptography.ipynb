{
  "nbformat": 4,
  "nbformat_minor": 0,
  "metadata": {
    "colab": {
      "provenance": [],
      "mount_file_id": "1nFNOpcTMRRvPeXSgqQfFhyWW31n_fsqM",
      "authorship_tag": "ABX9TyN3VXa6Qa5fOBz7jc8vHa0B",
      "include_colab_link": true
    },
    "kernelspec": {
      "name": "python3",
      "display_name": "Python 3"
    },
    "language_info": {
      "name": "python"
    }
  },
  "cells": [
    {
      "cell_type": "markdown",
      "metadata": {
        "id": "view-in-github",
        "colab_type": "text"
      },
      "source": [
        "<a href=\"https://colab.research.google.com/github/esteemeran/CalcWin7/blob/main/cryptography.ipynb\" target=\"_parent\"><img src=\"https://colab.research.google.com/assets/colab-badge.svg\" alt=\"Open In Colab\"/></a>"
      ]
    },
    {
      "cell_type": "code",
      "source": [
        "import random\n",
        "import string\n",
        "import math\n",
        "import textwrap\n",
        "import itertools"
      ],
      "metadata": {
        "id": "SpNSni5vtLaA"
      },
      "execution_count": 1,
      "outputs": []
    },
    {
      "cell_type": "code",
      "source": [
        "#lab 1 Шифр простой одинарной перестановки\n",
        "line = \"KOZLOVA\"\n",
        "size = len(line)\n",
        "codeTable = list(range(0, size))\n",
        "print(codeTable, line)\n",
        "\n",
        "random.shuffle(codeTable)\n",
        "codedLine = \"\"\n",
        "for i in codeTable:\n",
        "  codedLine = codedLine + line[i]\n",
        "print(codeTable, codedLine)\n",
        "\n",
        "key = \"\"\n",
        "n = (\"\".join(str(x) for x in codeTable))\n",
        "x = textwrap.fill(n, 4).split() #max 7\n",
        "for i in x:\n",
        "  key = key + chr(int(i))\n",
        "print(\"key\", key)"
      ],
      "metadata": {
        "colab": {
          "base_uri": "https://localhost:8080/"
        },
        "id": "5NUYbCltq2LQ",
        "outputId": "e6713c6c-5fcf-4bdb-8858-bae567d8424f"
      },
      "execution_count": null,
      "outputs": [
        {
          "output_type": "stream",
          "name": "stdout",
          "text": [
            "[0, 1, 2, 3, 4, 5, 6] KOZLOVA\n",
            "[3, 6, 5, 1, 2, 0, 4] LAVOZKO\n",
            "key ใÌ\n"
          ]
        }
      ]
    },
    {
      "cell_type": "code",
      "source": [
        "#lab 2 Лозунговый Шифр\n",
        "line = \"KOZLOVA_SVETLANA_EVGENIEVNA\".replace(\"_\", \"\");\n",
        "print(line)\n",
        "key = \"Supercalifragilisticexpialidocious\".upper();\n",
        "languageTable = \"\".join((string.ascii_uppercase))#+\"_\");\n",
        "print(key + \"\\n\" + languageTable)\n",
        "\n",
        "newLanguageTable = dict.fromkeys(key + languageTable);\n",
        "newLanguageTable = \"\".join(newLanguageTable)\n",
        "print(newLanguageTable)\n",
        "\n",
        "codedLine = \"\"\n",
        "for i in line:\n",
        "  old = languageTable.find(i)\n",
        "  new = newLanguageTable[old]\n",
        "  codedLine = codedLine + new\n",
        "print(codedLine)\n"
      ],
      "metadata": {
        "colab": {
          "base_uri": "https://localhost:8080/"
        },
        "id": "DLpbaGtYq6Fq",
        "outputId": "ac3b9770-f0ab-4967-d15b-da932a106eee"
      },
      "execution_count": null,
      "outputs": [
        {
          "output_type": "stream",
          "name": "stdout",
          "text": [
            "KOZLOVASVETLANAEVGENIEVNA\n",
            "SUPERCALIFRAGILISTICEXPIALIDOCIOUS\n",
            "ABCDEFGHIJKLMNOPQRSTUVWXYZ\n",
            "SUPERCALIFGTXDOBHJKMNQVWYZ\n",
            "GOZTOQSKQRMTSDSRQARDIRQDS\n"
          ]
        }
      ]
    },
    {
      "cell_type": "code",
      "execution_count": 15,
      "metadata": {
        "id": "2g5Wv-5pvOFq",
        "colab": {
          "base_uri": "https://localhost:8080/"
        },
        "outputId": "1c19b385-cd84-4b58-941e-3ddc8c369503"
      },
      "outputs": [
        {
          "output_type": "stream",
          "name": "stdout",
          "text": [
            "АБВГДЕЖЗИЙКЛМНОПРСТУФХЦЧШЩЫЬЭЮЯ\n",
            "СВПООЗЛУЙЬСТЬ_ЕДПСКОКАОЙЗ\n",
            "{'phrase': 'СВОПОЗЛЬУЙСТЕЬ_ДПОСККАЗОЙ', 'check': 9, 'why': 'ДП ЕЬ ЗЛ ЗО ЙС КК СВ УЙ ЬУ '}\n",
            "{'phrase': 'СПОВОЗУЙЛЬСЬ_ТЕДСКПОКОЙАЗ', 'check': 7, 'why': 'ДС ЗУ ЙА ЙЛ КП СЬ УЙ '}\n",
            "{'phrase': 'ВОСПОЛЬЗУЙТЕСЬ_ПОДСКАЗКОЙ', 'check': 7, 'why': 'ДС ЗК ЗУ ЙТ СЬ УЙ ЬЗ '}\n",
            "{'phrase': 'ВОПОСЛЬУЙЗТЕЬ_СПОСКДАЗОЙК', 'check': 8, 'why': 'ЕЬ ЗО ЗТ ЙЗ ЙК КД УЙ ЬУ '}\n",
            "{'phrase': 'ВСОПОЛЗЬУЙТСЕЬ_ПДОСКАКЗОЙ', 'check': 9, 'why': 'ЕЬ ЗО ЗЬ ЙТ КЗ ЛЗ ПД УЙ ЬУ '}\n",
            "{'phrase': 'ПООВСУЙЬЛЗЬ_ЕТССКОПДОЙЗАК', 'check': 9, 'why': 'ЗЬ ЙЗ ЙЬ ЛЗ ОО ПД СУ УЙ ЬЛ '}\n",
            "{'phrase': 'ПОСОВУЙЗЬЛЬ_СЕТСКДОПОЙКЗА', 'check': 8, 'why': 'ВУ ЗЬ ЙЗ ЙК КД КЗ УЙ ЬЛ '}\n",
            "{'phrase': 'ПОВОСУЙЛЬЗЬ_ТЕССКПОДОЙАЗК', 'check': 8, 'why': 'ЗК ЗЬ ЙА ЙЛ КП СУ УЙ ЬЗ '}\n"
          ]
        }
      ],
      "source": [
        "#lab 3 coded: столбцовая перестановка\n",
        "#file = open(\"/content/coded lab3.txt\", 'r', encoding='utf-8-sig')\n",
        "#while True:\n",
        "#line = file.readline()\n",
        "#if not line:\n",
        "#  break\n",
        "\n",
        "fileBig = open(\"/content/drive/MyDrive/Colab Notebooks/bigramms ru.txt\", 'r', encoding='utf-8-sig')\n",
        "cols, rows = (32, 32)\n",
        "bigsTable = [[0 for i in range(cols)] for j in range(rows)] #2d array of 0\n",
        "ruLanguage = \"\"\n",
        "for i in range(rows+1):\n",
        "  line = fileBig.readline()\n",
        "  # print(line)\n",
        "  line = line.replace(\"\\n\", \"\").replace(\" \", \"\")\n",
        "  if line =='':\n",
        "    break\n",
        "  nCols = line.split(\"\\t\")\n",
        "  j = 0\n",
        "  for currChr in nCols:\n",
        "      if i == 0:\n",
        "        ruLanguage = ruLanguage + currChr.upper()\n",
        "      else:\n",
        "        bigsTable[i-1][j] = int(currChr)\n",
        "        j=j+1\n",
        "print(ruLanguage)\n",
        "# print(bigsTable)\n",
        "\n",
        "line = \"СВПОО\"+\"ЗЛУЙЬ\"+\"СТЬ_Е\"+\"ДПСКО\" + \"КАОЙЗ\"\n",
        "charList = list(line.strip())\n",
        "table = []\n",
        "print(line)\n",
        "\n",
        "cols, rows = (5,5)\n",
        "n = 0\n",
        "for i in range(cols):\n",
        "  arr = []\n",
        "  for j in range(rows):\n",
        "    arr.append(charList[n])\n",
        "    n+=1\n",
        "  table.append(arr)\n",
        "\n",
        "# print(table)\n",
        "#print(table[0])\n",
        "\n",
        "#перестановки\n",
        "my_list = [i for i in range(cols)]\n",
        "permutations = list(itertools.permutations(my_list))\n",
        "\n",
        "# пытаемся избавиться от невозможных вариантов\n",
        "impossible = []\n",
        "for i in range(len(bigsTable)-1):\n",
        "  for j in range(len(bigsTable[i])-1):\n",
        "    probability = bigsTable[i][j]\n",
        "    if (probability)<=10:\n",
        "      bigramm = ruLanguage[i]+ruLanguage[j]\n",
        "      # print(bigramm, probability)\n",
        "      impossible.append(bigramm)\n",
        "      # print(bigramm, probability)\n",
        "#extra\n",
        "impossible.append(\"_Ь\")\n",
        "\n",
        "# формируем варианты\n",
        "minCheck = cols*rows;\n",
        "res = []\n",
        "for p in permutations:\n",
        "  curr = \"\"\n",
        "  # p = [2, 5, 1, 3, 4]\n",
        "  # print(p)\n",
        "  stop = False\n",
        "  for i in range(cols):\n",
        "    cLine = \"\"\n",
        "    c = \"\"\n",
        "    lastChr = \"\"\n",
        "    for index in p:\n",
        "      c = table[i][index-1]\n",
        "      lastChr = c\n",
        "      cLine = cLine + c\n",
        "    curr = curr + cLine\n",
        "\n",
        "  #проверка\n",
        "  wrong = 0;\n",
        "  problems = \"\";\n",
        "  for imp in impossible:\n",
        "    if imp in curr:\n",
        "      wrong += 1;\n",
        "      problems = problems + imp + \" \";\n",
        "  res.append({\"phrase\": curr, \"check\": wrong, \"why\": problems});\n",
        "  minCheck = min(minCheck, wrong);\n",
        "\n",
        "for i in res:\n",
        "  if i[\"check\"] <= (minCheck+2):\n",
        "    print(i);"
      ]
    },
    {
      "cell_type": "markdown",
      "source": [],
      "metadata": {
        "id": "sMsZycmEtZ_x"
      }
    }
  ]
}