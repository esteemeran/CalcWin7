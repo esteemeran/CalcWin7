{
  "nbformat": 4,
  "nbformat_minor": 0,
  "metadata": {
    "colab": {
      "provenance": [],
      "mount_file_id": "1nFNOpcTMRRvPeXSgqQfFhyWW31n_fsqM",
      "authorship_tag": "ABX9TyOPlxoceCvs9HCn1yEliseY",
      "include_colab_link": true
    },
    "kernelspec": {
      "name": "python3",
      "display_name": "Python 3"
    },
    "language_info": {
      "name": "python"
    }
  },
  "cells": [
    {
      "cell_type": "markdown",
      "metadata": {
        "id": "view-in-github",
        "colab_type": "text"
      },
      "source": [
        "<a href=\"https://colab.research.google.com/github/esteemeran/CalcWin7/blob/main/cryptography.ipynb\" target=\"_parent\"><img src=\"https://colab.research.google.com/assets/colab-badge.svg\" alt=\"Open In Colab\"/></a>"
      ]
    },
    {
      "cell_type": "code",
      "source": [
        "import random\n",
        "import string\n",
        "import math\n",
        "import textwrap\n",
        "import itertools"
      ],
      "metadata": {
        "id": "SpNSni5vtLaA"
      },
      "execution_count": 1,
      "outputs": []
    },
    {
      "cell_type": "code",
      "source": [
        "#lab 1 Шифр простой одинарной перестановки\n",
        "line = \"KOZLOVA\"\n",
        "size = len(line)\n",
        "codeTable = list(range(0, size))\n",
        "print(codeTable, line)\n",
        "\n",
        "random.shuffle(codeTable)\n",
        "codedLine = \"\"\n",
        "for i in codeTable:\n",
        "  codedLine = codedLine + line[i]\n",
        "print(codeTable, codedLine)\n",
        "\n",
        "key = \"\"\n",
        "n = (\"\".join(str(x) for x in codeTable))\n",
        "x = textwrap.fill(n, 4).split() #max 7\n",
        "for i in x:\n",
        "  key = key + chr(int(i))\n",
        "print(\"key\", key)"
      ],
      "metadata": {
        "colab": {
          "base_uri": "https://localhost:8080/"
        },
        "id": "5NUYbCltq2LQ",
        "outputId": "e6713c6c-5fcf-4bdb-8858-bae567d8424f"
      },
      "execution_count": null,
      "outputs": [
        {
          "output_type": "stream",
          "name": "stdout",
          "text": [
            "[0, 1, 2, 3, 4, 5, 6] KOZLOVA\n",
            "[3, 6, 5, 1, 2, 0, 4] LAVOZKO\n",
            "key ใÌ\n"
          ]
        }
      ]
    },
    {
      "cell_type": "code",
      "source": [
        "#lab 2 Лозунговый Шифр\n",
        "line = \"KOZLOVA_SVETLANA_EVGENIEVNA\".replace(\"_\", \"\");\n",
        "print(line)\n",
        "key = \"Supercalifragilisticexpialidocious\".upper();\n",
        "languageTable = \"\".join((string.ascii_uppercase))#+\"_\");\n",
        "print(key + \"\\n\" + languageTable)\n",
        "\n",
        "newLanguageTable = dict.fromkeys(key + languageTable);\n",
        "newLanguageTable = \"\".join(newLanguageTable)\n",
        "print(newLanguageTable)\n",
        "\n",
        "codedLine = \"\"\n",
        "for i in line:\n",
        "  old = languageTable.find(i)\n",
        "  new = newLanguageTable[old]\n",
        "  codedLine = codedLine + new\n",
        "print(codedLine)\n"
      ],
      "metadata": {
        "colab": {
          "base_uri": "https://localhost:8080/"
        },
        "id": "DLpbaGtYq6Fq",
        "outputId": "ac3b9770-f0ab-4967-d15b-da932a106eee"
      },
      "execution_count": null,
      "outputs": [
        {
          "output_type": "stream",
          "name": "stdout",
          "text": [
            "KOZLOVASVETLANAEVGENIEVNA\n",
            "SUPERCALIFRAGILISTICEXPIALIDOCIOUS\n",
            "ABCDEFGHIJKLMNOPQRSTUVWXYZ\n",
            "SUPERCALIFGTXDOBHJKMNQVWYZ\n",
            "GOZTOQSKQRMTSDSRQARDIRQDS\n"
          ]
        }
      ]
    },
    {
      "cell_type": "code",
      "execution_count": 52,
      "metadata": {
        "id": "2g5Wv-5pvOFq",
        "colab": {
          "base_uri": "https://localhost:8080/"
        },
        "outputId": "81982ca7-60d9-4508-8d96-aee87de7c868"
      },
      "outputs": [
        {
          "output_type": "stream",
          "name": "stdout",
          "text": [
            "[['С', 'В', 'П', 'О', 'О'], ['З', 'Л', 'У', 'Й', 'Ь'], ['С', 'Т', 'Ь', '_', 'Е'], ['Д', 'П', 'С', 'К', 'О'], ['К', 'А', 'О', 'Й', 'З']]\n",
            "ОСВПОЬЗЛУЙЕСТЬ_ОДПСКЗКАОЙ False\n",
            "ОСВОПЬЗЛЙУЕСТ_ЬОДПКСЗКАЙО False\n",
            "ОСПВОЬЗУЛЙЕСЬТ_ОДСПКЗКОАЙ False\n",
            "ОСПОВЬЗУЙЛЕСЬ_ТОДСКПЗКОЙА False\n",
            "ОВСПОЬЛЗУЙЕТСЬ_ОПДСКЗАКОЙ False\n",
            "ОВСОПЬЛЗЙУЕТС_ЬОПДКСЗАКЙО False\n",
            "ОВПСОЬЛУЗЙЕТЬС_ОПСДКЗАОКЙ False\n",
            "ОВПОСЬЛУЙЗЕТЬ_СОПСКДЗАОЙК False\n",
            "ОПСВОЬУЗЛЙЕЬСТ_ОСДПКЗОКАЙ False\n",
            "ОПСОВЬУЗЙЛЕЬС_ТОСДКПЗОКЙА False\n",
            "ОПВСОЬУЛЗЙЕЬТС_ОСПДКЗОАКЙ False\n",
            "ОПВОСЬУЛЙЗЕЬТ_СОСПКДЗОАЙК False\n",
            "СОВПОЗЬЛУЙСЕТЬ_ДОПСККЗАОЙ False\n",
            "СОВОПЗЬЛЙУСЕТ_ЬДОПКСКЗАЙО False\n",
            "СОПВОЗЬУЛЙСЕЬТ_ДОСПККЗОАЙ False\n",
            "СОПОВЗЬУЙЛСЕЬ_ТДОСКПКЗОЙА False\n",
            "СВОПОЗЛЬУЙСТЕЬ_ДПОСККАЗОЙ False\n",
            "СВООПЗЛЬЙУСТЕ_ЬДПОКСКАЗЙО False\n",
            "СВПООЗЛУЬЙСТЬЕ_ДПСОККАОЗЙ False\n",
            "СВПООЗЛУЙЬСТЬ_ЕДПСКОКАОЙЗ False\n",
            "СПОВОЗУЬЛЙСЬЕТ_ДСОПККОЗАЙ False\n",
            "СПООВЗУЬЙЛСЬЕ_ТДСОКПКОЗЙА False\n",
            "СПВООЗУЛЬЙСЬТЕ_ДСПОККОАЗЙ False\n",
            "СПВООЗУЛЙЬСЬТ_ЕДСПКОКОАЙЗ False\n",
            "ВОСПОЛЬЗУЙТЕСЬ_ПОДСКАЗКОЙ False\n",
            "ВОСОПЛЬЗЙУТЕС_ЬПОДКСАЗКЙО False\n",
            "ВОПСОЛЬУЗЙТЕЬС_ПОСДКАЗОКЙ False\n",
            "ВОПОСЛЬУЙЗТЕЬ_СПОСКДАЗОЙК False\n",
            "ВСОПОЛЗЬУЙТСЕЬ_ПДОСКАКЗОЙ False\n",
            "ВСООПЛЗЬЙУТСЕ_ЬПДОКСАКЗЙО False\n",
            "ВСПООЛЗУЬЙТСЬЕ_ПДСОКАКОЗЙ False\n",
            "ВСПООЛЗУЙЬТСЬ_ЕПДСКОАКОЙЗ False\n",
            "ВПОСОЛУЬЗЙТЬЕС_ПСОДКАОЗКЙ False\n",
            "ВПООСЛУЬЙЗТЬЕ_СПСОКДАОЗЙК False\n",
            "ВПСООЛУЗЬЙТЬСЕ_ПСДОКАОКЗЙ False\n",
            "ВПСООЛУЗЙЬТЬС_ЕПСДКОАОКЙЗ False\n",
            "ПОСВОУЬЗЛЙЬЕСТ_СОДПКОЗКАЙ False\n",
            "ПОСОВУЬЗЙЛЬЕС_ТСОДКПОЗКЙА False\n",
            "ПОВСОУЬЛЗЙЬЕТС_СОПДКОЗАКЙ False\n",
            "ПОВОСУЬЛЙЗЬЕТ_ССОПКДОЗАЙК False\n",
            "ПСОВОУЗЬЛЙЬСЕТ_СДОПКОКЗАЙ False\n",
            "ПСООВУЗЬЙЛЬСЕ_ТСДОКПОКЗЙА False\n",
            "ПСВООУЗЛЬЙЬСТЕ_СДПОКОКАЗЙ False\n",
            "ПСВООУЗЛЙЬЬСТ_ЕСДПКООКАЙЗ False\n",
            "ПВОСОУЛЬЗЙЬТЕС_СПОДКОАЗКЙ False\n",
            "ПВООСУЛЬЙЗЬТЕ_ССПОКДОАЗЙК False\n",
            "ПВСООУЛЗЬЙЬТСЕ_СПДОКОАКЗЙ False\n",
            "ПВСООУЛЗЙЬЬТС_ЕСПДКООАКЙЗ False\n",
            "aaaa\n"
          ]
        }
      ],
      "source": [
        "#lab 3 coded: столбцовая перестановка\n",
        "#file = open(\"/content/coded lab3.txt\", 'r', encoding='utf-8-sig')\n",
        "#while True:\n",
        "#line = file.readline()\n",
        "#if not line:\n",
        "#  break\n",
        "\n",
        "fileBig = open(\"/content/drive/MyDrive/Colab Notebooks/bigramms ru.txt\", 'r', encoding='utf-8-sig')\n",
        "cols, rows = (32, 32)\n",
        "bigsTable = [[0 for i in range(cols)] for j in range(rows)] #2d array of 0\n",
        "ruLanguage = \"\"\n",
        "for i in range(rows+1):\n",
        "  line = fileBig.readline().replace(\"\\n\", \"\").replace(\" \", \"\")\n",
        "  if line =='':\n",
        "    break\n",
        "  nCols = line.split(\"\\t\")\n",
        "  j = 0\n",
        "  for currChr in nCols:\n",
        "      if i == 0:\n",
        "        ruLanguage = ruLanguage + currChr.upper()\n",
        "      else:\n",
        "        bigsTable[i-1][j] = int(currChr)\n",
        "        j=j+1\n",
        "\n",
        "\n",
        "line = \"СВПОО\"+\"ЗЛУЙЬ\"+\"СТЬ_Е\"+\"ДПСКО\" + \"КАОЙЗ\"\n",
        "charList = list(line.strip())\n",
        "table = []\n",
        "\n",
        "cols, rows = (5,5)\n",
        "n = 0\n",
        "for i in range(cols):\n",
        "  arr = []\n",
        "  for j in range(rows):\n",
        "    arr.append(charList[n])\n",
        "    n+=1\n",
        "  table.append(arr)\n",
        "\n",
        "print(table)\n",
        "#print(table[0])\n",
        "\n",
        "#перестановки\n",
        "my_list = [i for i in range(cols)]\n",
        "permutations = list(itertools.permutations(my_list))\n",
        "\n",
        "# пытаемся избавиться от невозможных вариантов\n",
        "impossibe = []\n",
        "for i in range(len(bigsTable)):\n",
        "  for j in range(len(bigsTable[i])):\n",
        "    probability = bigsTable[i][j]\n",
        "    if (probability)<=90:\n",
        "      bigramm = ruLanguage[i-1]+ruLanguage[j-1]\n",
        "      # print(bigramm, probability)\n",
        "      impossibe.append(bigramm)\n",
        "      #print(bigramm)\n",
        "#extra\n",
        "impossibe.append(\"_Ь\")\n",
        "\n",
        "def findImp(arr, chr):\n",
        "  for i in arr:\n",
        "    if(i == chr):\n",
        "      return True\n",
        "  return False\n",
        "\n",
        "res = []\n",
        "for p in permutations:\n",
        "  curr = \"\"\n",
        "  # p = [2, 5, 1, 3, 4]\n",
        "  # print(p)\n",
        "  stop = False\n",
        "  for i in range(cols):\n",
        "    cLine = \"\"\n",
        "    c = \"\"\n",
        "    lastChr = \"\"\n",
        "    for index in p:\n",
        "      c = table[i][index-1]\n",
        "      if lastChr != \"\":\n",
        "        bi = lastChr+c\n",
        "        # print(bi)\n",
        "        stop = findImp(impossibe, bi)\n",
        "        # if stop:\n",
        "        #   break\n",
        "      lastChr = c\n",
        "      cLine = cLine + c\n",
        "    # if stop:\n",
        "    #   break\n",
        "    curr = curr + cLine\n",
        "  # if not stop:\n",
        "  #   continue\n",
        "  if stop:\n",
        "    continue\n",
        "  print(curr, stop)\n",
        "  res.append(curr)\n",
        "\n",
        "if \"ОЬ\" in impossibe:\n",
        "  print(\"aaaa\")\n",
        "\n",
        "\n",
        "\n"
      ]
    },
    {
      "cell_type": "markdown",
      "source": [],
      "metadata": {
        "id": "sMsZycmEtZ_x"
      }
    }
  ]
}